{
 "cells": [
  {
   "cell_type": "markdown",
   "id": "f620b8be",
   "metadata": {},
   "source": [
    "# Python program to check whether a given string is palindrome or not"
   ]
  },
  {
   "cell_type": "code",
   "execution_count": 3,
   "id": "33e065e3",
   "metadata": {},
   "outputs": [
    {
     "name": "stdout",
     "output_type": "stream",
     "text": [
      "string - 898456\n",
      "Not palindrome\n"
     ]
    }
   ],
   "source": [
    "a = input(\"string - \")\n",
    "b=a[-1::-1]\n",
    "if(a==b):\n",
    "    print(\"palindrome\")\n",
    "else:\n",
    "    print(\"Not palindrome\")"
   ]
  },
  {
   "cell_type": "code",
   "execution_count": 4,
   "id": "3e858dab",
   "metadata": {},
   "outputs": [
    {
     "name": "stdout",
     "output_type": "stream",
     "text": [
      "string - 56465\n",
      "palindrome\n"
     ]
    }
   ],
   "source": [
    "a = input(\"string - \")\n",
    "b=a[-1::-1]\n",
    "if(a==b):\n",
    "    print(\"palindrome\")\n",
    "else:\n",
    "    print(\"Not palindrome\")"
   ]
  },
  {
   "cell_type": "markdown",
   "id": "d11805ca",
   "metadata": {},
   "source": [
    "# Python program to find whether a number is prime or composite"
   ]
  },
  {
   "cell_type": "code",
   "execution_count": 5,
   "id": "1921b5f6",
   "metadata": {},
   "outputs": [
    {
     "name": "stdout",
     "output_type": "stream",
     "text": [
      "Number - 99\n",
      "99 is a composite number\n"
     ]
    }
   ],
   "source": [
    "num = int(input(\"Number - \"))\n",
    "if (num==2 or num==3 or num==5 or num==7):\n",
    "    print (num,\"is a prime number\")\n",
    "    \n",
    "elif(num%2==0 or num%3==0 or num%5==0 or num%7==0):\n",
    "    print(num,\"is a composite number\")\n",
    "    \n",
    "else:\n",
    "    print(num,\"is a prime number\")\n",
    "    \n",
    "    "
   ]
  },
  {
   "cell_type": "code",
   "execution_count": 6,
   "id": "5f4fb317",
   "metadata": {},
   "outputs": [
    {
     "name": "stdout",
     "output_type": "stream",
     "text": [
      "Number - 17\n",
      "17 is a prime number\n"
     ]
    }
   ],
   "source": [
    "num = int(input(\"Number - \"))\n",
    "if (num==2 or num==3 or num==5 or num==7):\n",
    "    print (num,\"is a prime number\")\n",
    "    \n",
    "elif(num%2==0 or num%3==0 or num%5==0 or num%7==0):\n",
    "    print(num,\"is a composite number\")\n",
    "    \n",
    "else:\n",
    "    print(num,\"is a prime number\")\n",
    "    "
   ]
  },
  {
   "cell_type": "markdown",
   "id": "0bf16c93",
   "metadata": {},
   "source": [
    "# Python program to print the frequency of each of the characters present in a given string"
   ]
  },
  {
   "cell_type": "code",
   "execution_count": 7,
   "id": "0397dc5e",
   "metadata": {},
   "outputs": [
    {
     "name": "stdout",
     "output_type": "stream",
     "text": [
      "Enter the string:LENOVO\n",
      "{'L': 1, 'E': 1, 'N': 1, 'O': 2, 'V': 1}\n"
     ]
    }
   ],
   "source": [
    "str1 = input (\"Enter the string:\")\n",
    "d1 = dict()\n",
    "for c in str1:\n",
    "    if c in d1:\n",
    "        d1[c] = d1[c] + 1\n",
    "    else:\n",
    "        d1[c] = 1\n",
    "print (d1)\n"
   ]
  },
  {
   "cell_type": "markdown",
   "id": "c5f859c2",
   "metadata": {},
   "source": [
    "# Python program to find the factorial of a number."
   ]
  },
  {
   "cell_type": "code",
   "execution_count": 10,
   "id": "a8b3c16a",
   "metadata": {},
   "outputs": [
    {
     "name": "stdout",
     "output_type": "stream",
     "text": [
      "The factorial of 14 is 87178291200\n"
     ]
    }
   ],
   "source": [
    "Num = 14\n",
    "Factorial = 1\n",
    "if Num < 0:\n",
    "    print(\"Factorial does not exist for negative numbers\")\n",
    "elif Num == 0:\n",
    "    print(\"The factorial of 0 is 1\")\n",
    "else:\n",
    "    for i in range(1, Num + 1):\n",
    "        Factorial = Factorial * i\n",
    "    print(\"The factorial of\",Num,\"is\",Factorial)"
   ]
  },
  {
   "cell_type": "markdown",
   "id": "c47a7089",
   "metadata": {},
   "source": [
    "# Phython program to get the third side of right-angled triangle from two given sides"
   ]
  },
  {
   "cell_type": "code",
   "execution_count": 11,
   "id": "8d03936f",
   "metadata": {},
   "outputs": [
    {
     "name": "stdout",
     "output_type": "stream",
     "text": [
      "Enter base: 15\n",
      "Enter height: 20\n",
      "Enter angle: 90\n",
      "Hypotenuse = 25.0\n"
     ]
    }
   ],
   "source": [
    "import math\n",
    "\n",
    "a = float(input(\"Enter base: \"))\n",
    "b = float(input(\"Enter height: \"))\n",
    "x = float(input(\"Enter angle: \"))\n",
    "\n",
    "c = math.sqrt(a ** 2 + b ** 2)\n",
    "\n",
    "print(\"Hypotenuse =\", c)"
   ]
  },
  {
   "cell_type": "code",
   "execution_count": null,
   "id": "57df4ec5",
   "metadata": {},
   "outputs": [],
   "source": []
  }
 ],
 "metadata": {
  "kernelspec": {
   "display_name": "Python 3",
   "language": "python",
   "name": "python3"
  },
  "language_info": {
   "codemirror_mode": {
    "name": "ipython",
    "version": 3
   },
   "file_extension": ".py",
   "mimetype": "text/x-python",
   "name": "python",
   "nbconvert_exporter": "python",
   "pygments_lexer": "ipython3",
   "version": "3.8.8"
  }
 },
 "nbformat": 4,
 "nbformat_minor": 5
}
